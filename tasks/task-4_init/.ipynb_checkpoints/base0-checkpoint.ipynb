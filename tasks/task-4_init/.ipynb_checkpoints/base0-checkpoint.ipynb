{
 "cells": [
  {
   "cell_type": "code",
   "execution_count": 3,
   "id": "eb91916e-0745-4c0f-9970-f190a8a59669",
   "metadata": {},
   "outputs": [],
   "source": [
    "import cv2\n",
    "import numpy as np\n",
    "import matplotlib.pyplot as plt"
   ]
  },
  {
   "cell_type": "markdown",
   "id": "d12ae993-b049-4ec1-bdfe-78e8abf7ef9a",
   "metadata": {},
   "source": [
    "#### creating synthetic image"
   ]
  },
  {
   "cell_type": "code",
   "execution_count": 78,
   "id": "e5f1df02-a0a8-4f0d-9597-5c5c6eefe737",
   "metadata": {},
   "outputs": [],
   "source": [
    "img = np.ones((256, 256, 3), np.uint8)\n",
    "img = img * 255"
   ]
  },
  {
   "cell_type": "code",
   "execution_count": 80,
   "id": "3a670e78-782c-4903-857e-52e4186ad9b3",
   "metadata": {
    "collapsed": true,
    "jupyter": {
     "outputs_hidden": true,
     "source_hidden": true
    },
    "tags": []
   },
   "outputs": [
    {
     "data": {
      "text/plain": [
       "<matplotlib.image.AxesImage at 0x205c2280e80>"
      ]
     },
     "execution_count": 80,
     "metadata": {},
     "output_type": "execute_result"
    },
    {
     "data": {
      "image/png": "[encoded data removed]",
      "text/plain": [
       "<Figure size 432x288 with 1 Axes>"
      ]
     },
     "metadata": {
      "needs_background": "light"
     },
     "output_type": "display_data"
    }
   ],
   "source": [
    "# fig = plt.figure(figsize=(10,10))\n",
    "# plt.subplot(111), plt.imshow(img), plt.axis('on')\n",
    "plt.imshow(img)"
   ]
  },
  {
   "cell_type": "code",
   "execution_count": 81,
   "id": "42b02016-a4d1-4b4f-95fb-4d8cd31b0e4d",
   "metadata": {
    "tags": []
   },
   "outputs": [],
   "source": [
    "img = cv2.rectangle(img, (100,50), (210,128), (0,255,0), -1)\n",
    "img = cv2.rectangle(img, (80,30), (230,150), (0,0,0), 5)\n",
    "img = cv2.line(img, (200,200), (50, 200), (255,0,0), 10)"
   ]
  },
  {
   "cell_type": "code",
   "execution_count": 82,
   "id": "435c8ee1-ebba-413c-b423-f6e7951b058a",
   "metadata": {},
   "outputs": [
    {
     "data": {
      "text/plain": [
       "<matplotlib.image.AxesImage at 0x205c22dfd60>"
      ]
     },
     "execution_count": 82,
     "metadata": {},
     "output_type": "execute_result"
    },
    {
     "data": {
      "image/png": "[encoded data removed]",
      "text/plain": [
       "<Figure size 432x288 with 1 Axes>"
      ]
     },
     "metadata": {
      "needs_background": "light"
     },
     "output_type": "display_data"
    }
   ],
   "source": [
    "plt.imshow(img)"
   ]
  },
  {
   "cell_type": "markdown",
   "id": "e87b100b-684c-4186-b64a-33ffeded4ab6",
   "metadata": {},
   "source": [
    "#### turn img into grayscale"
   ]
  },
  {
   "cell_type": "code",
   "execution_count": 83,
   "id": "5ff754d6-7440-4150-abba-4d0090c13376",
   "metadata": {},
   "outputs": [
    {
     "data": {
      "text/plain": [
       "(256, 256)"
      ]
     },
     "execution_count": 83,
     "metadata": {},
     "output_type": "execute_result"
    }
   ],
   "source": [
    "gray = cv2.cvtColor(img, cv2.COLOR_BGR2GRAY)\n",
    "gray.shape"
   ]
  },
  {
   "cell_type": "code",
   "execution_count": 85,
   "id": "b56b9c4e-0f84-4916-b902-394bd674609b",
   "metadata": {},
   "outputs": [
    {
     "data": {
      "text/plain": [
       "<matplotlib.image.AxesImage at 0x205c3893610>"
      ]
     },
     "execution_count": 85,
     "metadata": {},
     "output_type": "execute_result"
    },
    {
     "data": {
      "image/png": "[encoded data removed]",
      "text/plain": [
       "<Figure size 432x288 with 1 Axes>"
      ]
     },
     "metadata": {
      "needs_background": "light"
     },
     "output_type": "display_data"
    }
   ],
   "source": [
    "plt.imshow(gray, cmap='gray')"
   ]
  },
  {
   "cell_type": "code",
   "execution_count": null,
   "id": "6eb3aecd-0fbd-4471-b615-2a1f6c1e7924",
   "metadata": {},
   "outputs": [],
   "source": []
  }
 ],
 "metadata": {
  "kernelspec": {
   "display_name": "Python 3 (ipykernel)",
   "language": "python",
   "name": "python3"
  },
  "language_info": {
   "codemirror_mode": {
    "name": "ipython",
    "version": 3
   },
   "file_extension": ".py",
   "mimetype": "text/x-python",
   "name": "python",
   "nbconvert_exporter": "python",
   "pygments_lexer": "ipython3",
   "version": "3.8.12"
  }
 },
 "nbformat": 4,
 "nbformat_minor": 5
}
