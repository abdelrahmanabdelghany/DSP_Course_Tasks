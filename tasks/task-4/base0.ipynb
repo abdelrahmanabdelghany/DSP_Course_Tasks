{
 "cells": [
  {
   "cell_type": "markdown",
   "id": "41dfad09-abd9-4dad-9870-cbd03ea580db",
   "metadata": {},
   "source": [
    "## CV GROUP TASK - Boundary Tracing"
   ]
  },
  {
   "cell_type": "markdown",
   "id": "4b50ffb0-a2f3-4cd7-bb01-c65e2f360513",
   "metadata": {},
   "source": [
    "**Group members:**\n",
    "- Ahmed Hesham AbdElEllah Mohamed AboALi\n",
    "- Hussien Mohamed Saad ElRashidy\n",
    "- AbdElRahman Muhsen AbdElLatif AbdElGhany\n",
    "- Mariam Magued Habib Bebawy\n",
    "- Youssef Ahmed MahmoudElSayed Shawki"
   ]
  },
  {
   "cell_type": "code",
   "execution_count": 46,
   "id": "97737e3a-ca64-4e05-b0d6-6bd50269c4c0",
   "metadata": {},
   "outputs": [],
   "source": [
    "import cv2\n",
    "import numpy as np\n",
    "import matplotlib.pyplot as plt"
   ]
  },
  {
   "cell_type": "code",
   "execution_count": 47,
   "metadata": {},
   "outputs": [
    {
     "data": {
      "text/plain": [
       "<matplotlib.image.AxesImage at 0x2a6aac378e0>"
      ]
     },
     "execution_count": 47,
     "metadata": {},
     "output_type": "execute_result"
    },
    {
     "data": {
      "image/png": "[encoded data removed]",
      "text/plain": [
       "<Figure size 432x288 with 1 Axes>"
      ]
     },
     "metadata": {
      "needs_background": "light"
     },
     "output_type": "display_data"
    }
   ],
   "source": [
    "height = width = 200\n",
    "blank_image = np.zeros((height,width))\n",
    "image = cv2.rectangle(blank_image, (30, 30), (100, 100), 1, -1)\n",
    "image = cv2.rectangle(blank_image, (125, 125), (175, 175), 1, -1)\n",
    "plt.imshow(image)\n"
   ]
  },
  {
   "cell_type": "code",
   "execution_count": null,
   "metadata": {},
   "outputs": [],
   "source": [
    "\n",
    "\n"
   ]
  },
  {
   "cell_type": "code",
   "execution_count": 48,
   "metadata": {},
   "outputs": [],
   "source": [
    "\n",
    "def Boundary_Tracing(im):\n",
    "    dir=3\n",
    "    i=0\n",
    "    j=0\n",
    "    output=np.zeros(np.shape(im))\n",
    "    rows,cols =np.shape(im)\n",
    "\n",
    "    for n in range (0,rows-1,1):\n",
    "        for m in range (0,cols-1,1):\n",
    "            if (im[n,m]):\n",
    "                i=n\n",
    "                j=m\n",
    "                break   \n",
    "        if (im[n,m]):\n",
    "            break\n",
    "       \n",
    "    print(i,j)\n",
    "\n",
    "    somelist=[]\n",
    "    while(True):\n",
    "        if(len(somelist)>4):\n",
    "            if(somelist[1]==somelist[-1] and somelist[0]==somelist[len(somelist)-2]):\n",
    "                return output\n",
    "        if(im[i,j]):\n",
    "            dir=(dir+3)%4\n",
    "            output[i,j]=1\n",
    "            somelist.append([i,j])\n",
    "        else:\n",
    "            if(dir==0):\n",
    "                j=j-1\n",
    "            elif(dir==1):\n",
    "                i=i+1\n",
    "            elif(dir==2):\n",
    "                j=j+1\n",
    "            else:\n",
    "                i=i-1\n",
    "            dir=dir+1\n",
    "            if dir>3:\n",
    "                dir=0\n",
    "\n",
    "        if(dir==0):\n",
    "            j=j+1\n",
    "        elif(dir==1):\n",
    "            i=i-1\n",
    "        elif(dir==2):\n",
    "            j=j-1\n",
    "        else:\n",
    "            i=i+1\n",
    "\n",
    "\n",
    "\n",
    "\n"
   ]
  },
  {
   "cell_type": "code",
   "execution_count": 49,
   "metadata": {},
   "outputs": [
    {
     "name": "stdout",
     "output_type": "stream",
     "text": [
      "30 30\n"
     ]
    },
    {
     "data": {
      "text/plain": [
       "<matplotlib.image.AxesImage at 0x2a6aac9e910>"
      ]
     },
     "execution_count": 49,
     "metadata": {},
     "output_type": "execute_result"
    },
    {
     "data": {
      "image/png": "[encoded data removed]",
      "text/plain": [
       "<Figure size 432x288 with 1 Axes>"
      ]
     },
     "metadata": {
      "needs_background": "light"
     },
     "output_type": "display_data"
    }
   ],
   "source": [
    "boundary1=Boundary_Tracing(image)\n",
    "plt.imshow(boundary1)\n"
   ]
  },
  {
   "cell_type": "code",
   "execution_count": 50,
   "metadata": {},
   "outputs": [
    {
     "name": "stdout",
     "output_type": "stream",
     "text": [
      "24 24\n"
     ]
    },
    {
     "data": {
      "image/png": "[encoded data removed]",
      "text/plain": [
       "<Figure size 432x288 with 1 Axes>"
      ]
     },
     "metadata": {
      "needs_background": "light"
     },
     "output_type": "display_data"
    }
   ],
   "source": [
    "flip1 = cv2.flip(image, 0)\n",
    "trans = cv2.transpose(flip1)\n",
    "flip2 = cv2.flip(trans, 0)\n",
    "\n",
    "boundary2=Boundary_Tracing(flip2)\n",
    "plt.imshow(boundary2)\n",
    "flip1 = cv2.flip(boundary2, 0)\n",
    "trans = cv2.transpose(flip1)\n",
    "flip2 = cv2.flip(trans, 0)\n",
    "boundary2=flip2\n",
    "\n"
   ]
  },
  {
   "cell_type": "code",
   "execution_count": 51,
   "metadata": {},
   "outputs": [
    {
     "data": {
      "text/plain": [
       "<matplotlib.image.AxesImage at 0x2a6aad72370>"
      ]
     },
     "execution_count": 51,
     "metadata": {},
     "output_type": "execute_result"
    },
    {
     "data": {
      "image/png": "[encoded data removed]",
      "text/plain": [
       "<Figure size 432x288 with 1 Axes>"
      ]
     },
     "metadata": {
      "needs_background": "light"
     },
     "output_type": "display_data"
    }
   ],
   "source": [
    "sum=boundary2+boundary1\n",
    "plt.imshow(sum,cmap='gray')"
   ]
  },
  {
   "cell_type": "code",
   "execution_count": 52,
   "metadata": {},
   "outputs": [
    {
     "name": "stdout",
     "output_type": "stream",
     "text": [
      "30 30\n"
     ]
    },
    {
     "data": {
      "text/plain": [
       "<matplotlib.image.AxesImage at 0x2a6aadeb4c0>"
      ]
     },
     "execution_count": 52,
     "metadata": {},
     "output_type": "execute_result"
    },
    {
     "data": {
      "image/png": "[encoded data removed]",
      "text/plain": [
       "<Figure size 432x288 with 1 Axes>"
      ]
     },
     "metadata": {
      "needs_background": "light"
     },
     "output_type": "display_data"
    }
   ],
   "source": [
    "height = width = 200\n",
    "blank_image = np.zeros((height,width))\n",
    "image = cv2.rectangle(blank_image, (30, 30), (100, 100), 1, -1)\n",
    "image = cv2.rectangle(blank_image, (125, 125), (175, 175), 1, -1)\n",
    "image = cv2.rectangle(blank_image, (85, 85), (155, 155), 1, -1)\n",
    "plt.imshow(image)\n",
    "boundary1=Boundary_Tracing(image)\n",
    "plt.imshow(boundary1)\n",
    "\n"
   ]
  }
 ],
 "metadata": {
  "interpreter": {
   "hash": "5c6a211c216078c86ba3e601b9554879783dd259093af23477b360d84afdc070"
  },
  "kernelspec": {
   "display_name": "Python 3.9.0 64-bit",
   "language": "python",
   "name": "python3"
  },
  "language_info": {
   "codemirror_mode": {
    "name": "ipython",
    "version": 3
   },
   "file_extension": ".py",
   "mimetype": "text/x-python",
   "name": "python",
   "nbconvert_exporter": "python",
   "pygments_lexer": "ipython3",
   "version": "3.9.0"
  },
  "orig_nbformat": 4
 },
 "nbformat": 4,
 "nbformat_minor": 2
}
