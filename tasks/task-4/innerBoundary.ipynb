{
 "cells": [
  {
   "cell_type": "markdown",
   "id": "41dfad09-abd9-4dad-9870-cbd03ea580db",
   "metadata": {},
   "source": [
    "## CV GROUP TASK - Boundary Tracing"
   ]
  },
  {
   "cell_type": "markdown",
   "id": "4b50ffb0-a2f3-4cd7-bb01-c65e2f360513",
   "metadata": {},
   "source": [
    "**Group members:**\n",
    "- Ahmed Hesham AbdElEllah Mohamed AboAli\n",
    "- Hussien Mohamed Saad ElRashidy\n",
    "- AbdElRahman Muhsen AbdElLatif AbdElGhany\n",
    "- Mariam Magued Habib Bebawy\n",
    "- Youssef Ahmed MahmoudElSayed Shawki"
   ]
  },
  {
   "cell_type": "code",
   "execution_count": 2,
   "id": "97737e3a-ca64-4e05-b0d6-6bd50269c4c0",
   "metadata": {},
   "outputs": [],
   "source": [
    "import cv2\n",
    "import numpy as np\n",
    "import matplotlib.pyplot as plt"
   ]
  },
  {
   "cell_type": "markdown",
   "metadata": {},
   "source": [
    "### Inner boundary tracing algorithm"
   ]
  },
  {
   "cell_type": "code",
   "execution_count": 3,
   "metadata": {},
   "outputs": [],
   "source": [
    "def Boundary_Tracing(im):\n",
    "    dir=3\n",
    "    i = j = 0   # indices of first boundary pixel\n",
    "    output = np.zeros(np.shape(im))\n",
    "    rows,cols = np.shape(im)\n",
    "\n",
    "    for n in range (0,rows-1,1):\n",
    "        for m in range (0,cols-1,1):\n",
    "            if (im[n,m]):\n",
    "                i=n\n",
    "                j=m\n",
    "                break   \n",
    "        if (im[n,m]):\n",
    "            break\n",
    "       \n",
    "    print(i,j)\n",
    "\n",
    "    somelist=[]   # list of boundary indices\n",
    "    while(True):\n",
    "        if(len(somelist)>4):\n",
    "            if(somelist[1]==somelist[-1] and somelist[0]==somelist[len(somelist)-2]):\n",
    "                return output\n",
    "        if(im[i,j]):\n",
    "            dir=(dir+3)%4\n",
    "            output[i,j]=1\n",
    "            somelist.append([i,j])\n",
    "        else:\n",
    "            if(dir==0):\n",
    "                j=j-1\n",
    "            elif(dir==1):\n",
    "                i=i+1\n",
    "            elif(dir==2):\n",
    "                j=j+1\n",
    "            else:\n",
    "                i=i-1\n",
    "            dir=dir+1\n",
    "            if dir>3:\n",
    "                dir=0\n",
    "\n",
    "        if(dir==0):\n",
    "            j=j+1\n",
    "        elif(dir==1):\n",
    "            i=i-1\n",
    "        elif(dir==2):\n",
    "            j=j-1\n",
    "        else:\n",
    "            i=i+1"
   ]
  },
  {
   "cell_type": "markdown",
   "metadata": {},
   "source": [
    "### Image with one region"
   ]
  },
  {
   "cell_type": "code",
   "execution_count": 4,
   "metadata": {},
   "outputs": [],
   "source": [
    "# CREATING IMAGE\n",
    "height = width = 200\n",
    "blank_image = np.zeros((height,width))\n",
    "image = cv2.rectangle(blank_image, (30, 30), (100, 100), 1, -1)\n",
    "image = cv2.rectangle(blank_image, (125, 125), (175, 175), 1, -1)\n",
    "image = cv2.rectangle(blank_image, (85, 85), (155, 155), 1, -1)\n",
    "\n",
    "# PERFORMING BOUNDARY TRACING\n",
    "boundary = Boundary_Tracing(image)"
   ]
  },
  {
   "cell_type": "code",
   "execution_count": 6,
   "metadata": {},
   "outputs": [
    {
     "data": {
      "image/png": "[encoded data removed]",
      "text/plain": [
       "<Figure size 720x720 with 2 Axes>"
      ]
     },
     "metadata": {
      "needs_background": "light"
     },
     "output_type": "display_data"
    }
   ],
   "source": [
    "# PLOTTING ORIGINAL // BOUNDARIES\n",
    "fig = plt.figure(figsize=(10,10))\n",
    "plt.subplot(121), plt.imshow(image, cmap='gray'), plt.axis('off'), plt.title('original image')\n",
    "plt.subplot(122), plt.imshow(boundary, cmap='gray'), plt.axis('off'), plt.title('boundaries')\n",
    "plt.show()"
   ]
  },
  {
   "cell_type": "markdown",
   "metadata": {},
   "source": [
    "### Image with two regions"
   ]
  },
  {
   "cell_type": "code",
   "execution_count": 7,
   "metadata": {},
   "outputs": [
    {
     "name": "stdout",
     "output_type": "stream",
     "text": [
      "30 30\n"
     ]
    }
   ],
   "source": [
    "# CREATING IMAGE\n",
    "height = width = 200\n",
    "blank_image = np.zeros((height,width))\n",
    "image = cv2.rectangle(blank_image, (30, 30), (100, 100), 1, -1)\n",
    "image = cv2.rectangle(blank_image, (125, 125), (175, 175), 1, -1)\n",
    "\n",
    "# PERFORMING BOUNDARY TRACING\n",
    "boundary1 = Boundary_Tracing(image)\n",
    "\n",
    "# REVERSING THE IMAGE\n",
    "flip1 = cv2.flip(image, 0)\n",
    "trans = cv2.transpose(flip1)\n",
    "flip2 = cv2.flip(trans, 0)\n",
    "\n",
    "# PERFORMING BOUNDARY TRACING ON REVERSED IMAGE\n",
    "boundary2 = Boundary_Tracing(flip2)\n",
    "\n",
    "# REVERSING BOUNDARY IMAGE\n",
    "flip1 = cv2.flip(boundary2, 0)\n",
    "trans = cv2.transpose(flip1)\n",
    "flip2 = cv2.flip(trans, 0)\n",
    "boundary2 = flip2\n",
    "\n",
    "# SUMMING BOUNDARIES\n",
    "sum = boundary2 + boundary1"
   ]
  },
  {
   "cell_type": "code",
   "execution_count": 11,
   "metadata": {},
   "outputs": [
    {
     "data": {
      "image/png": "[encoded data removed]",
      "text/plain": [
       "<Figure size 1440x1440 with 4 Axes>"
      ]
     },
     "metadata": {
      "needs_background": "light"
     },
     "output_type": "display_data"
    }
   ],
   "source": [
    "# PLOTTING ORIGINAL // FIRST BOUNDARY // SECOND BOUNDARY // BOUNDARIES\n",
    "fig = plt.figure(figsize=(20,20))\n",
    "plt.subplot(141), plt.imshow(image, cmap='gray'), plt.axis('off'), plt.title('original image')\n",
    "plt.subplot(142), plt.imshow(boundary1, cmap='gray'), plt.axis('off'), plt.title('first region boundary')\n",
    "plt.subplot(143), plt.imshow(boundary2, cmap='gray'), plt.axis('off'), plt.title('second region boundary')\n",
    "plt.subplot(144), plt.imshow(sum, cmap='gray'), plt.axis('off'), plt.title('boundaries')\n",
    "plt.show()"
   ]
  }
 ],
 "metadata": {
  "interpreter": {
   "hash": "8304880a3e767ad58ed1695f5214ef77ebbb8fdf4513a7eb4c0fbb1ff3deb86b"
  },
  "kernelspec": {
   "display_name": "Python 3.9.0 64-bit",
   "language": "python",
   "name": "python3"
  },
  "language_info": {
   "codemirror_mode": {
    "name": "ipython",
    "version": 3
   },
   "file_extension": ".py",
   "mimetype": "text/x-python",
   "name": "python",
   "nbconvert_exporter": "python",
   "pygments_lexer": "ipython3",
   "version": "3.9.0"
  },
  "orig_nbformat": 4
 },
 "nbformat": 4,
 "nbformat_minor": 2
}
